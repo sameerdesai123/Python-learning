{
 "cells": [
  {
   "cell_type": "markdown",
   "metadata": {},
   "source": [
    "# For Loop\n",
    "    For loop is a looping structure that iterates a fixed number of times or through a iterable data structure(list, tuple, dict, set)\n",
    "## Support Functions:\n",
    "    1. range() -> takes 2 or 3 arguments (start, end, step)\n",
    "    2. len() -> this returns length of a list\n",
    "    3. items() -> this returns the (key, value) from a dictionary\n",
    "## Controlling flow in a loop:\n",
    "    1. break\n",
    "    2. continue"
   ]
  },
  {
   "cell_type": "code",
   "execution_count": 3,
   "metadata": {},
   "outputs": [
    {
     "name": "stdout",
     "output_type": "stream",
     "text": [
      "0->1->2->3->4->5->6->7->8->9\n"
     ]
    }
   ],
   "source": [
    "# printing 0-9\n",
    "for i in range(10):\n",
    "    if i != 9:\n",
    "        print(i, end='->')\n",
    "    else:\n",
    "        print(i)"
   ]
  },
  {
   "cell_type": "code",
   "execution_count": 4,
   "metadata": {},
   "outputs": [
    {
     "name": "stdout",
     "output_type": "stream",
     "text": [
      "0->1->2->3->4->6->7->8->9\n"
     ]
    }
   ],
   "source": [
    "# printing 0-4 and 6-9\n",
    "for i in range(10):\n",
    "    if i != 9:\n",
    "        if i == 5:\n",
    "            continue\n",
    "        print(i, end='->')\n",
    "    else:\n",
    "        print(i)"
   ]
  },
  {
   "cell_type": "code",
   "execution_count": 1,
   "metadata": {},
   "outputs": [
    {
     "name": "stdout",
     "output_type": "stream",
     "text": [
      "4\n",
      "9\n",
      "16\n",
      "25\n",
      "36\n",
      "49\n",
      "64\n",
      "81\n",
      "121\n"
     ]
    }
   ],
   "source": [
    "# iterating through a list:\n",
    "l = [2,3,4,5,6,7,8,9,11]\n",
    "for i in l:\n",
    "    print(i**2)\n"
   ]
  },
  {
   "cell_type": "code",
   "execution_count": 3,
   "metadata": {},
   "outputs": [
    {
     "name": "stdout",
     "output_type": "stream",
     "text": [
      "23\n",
      "46\n",
      "23\n"
     ]
    }
   ],
   "source": [
    "# gcd\n",
    "n, m, gcd = int(input()), int(input()), 1\n",
    "for i in range(1, min(n,m)+1):\n",
    "    if n%i == 0 and m%i == 0:\n",
    "        gcd = i\n",
    "\n",
    "print(gcd)\n",
    "    "
   ]
  },
  {
   "cell_type": "code",
   "execution_count": null,
   "metadata": {},
   "outputs": [],
   "source": []
  }
 ],
 "metadata": {
  "kernelspec": {
   "display_name": "Python 3",
   "language": "python",
   "name": "python3"
  },
  "language_info": {
   "codemirror_mode": {
    "name": "ipython",
    "version": 3
   },
   "file_extension": ".py",
   "mimetype": "text/x-python",
   "name": "python",
   "nbconvert_exporter": "python",
   "pygments_lexer": "ipython3",
   "version": "3.7.4"
  }
 },
 "nbformat": 4,
 "nbformat_minor": 2
}
