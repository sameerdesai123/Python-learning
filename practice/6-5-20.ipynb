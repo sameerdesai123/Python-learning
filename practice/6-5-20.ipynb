{
 "cells": [
  {
   "cell_type": "code",
   "execution_count": 1,
   "metadata": {},
   "outputs": [],
   "source": [
    "import textwrap as tw"
   ]
  },
  {
   "cell_type": "code",
   "execution_count": 10,
   "metadata": {},
   "outputs": [
    {
     "name": "stdout",
     "output_type": "stream",
     "text": [
      "Hello\n",
      "World\n",
      "!\n",
      "Hello\n",
      "World\n",
      "!\n",
      "Hello [...]\n"
     ]
    }
   ],
   "source": [
    "print('\\n'.join(tw.wrap(\"Hello World!\", 5)))\n",
    "print(tw.fill(\"Hello World!\", 5))\n",
    "print(tw.shorten(\"Hello World!\", 11))"
   ]
  },
  {
   "cell_type": "code",
   "execution_count": 15,
   "metadata": {},
   "outputs": [
    {
     "name": "stdout",
     "output_type": "stream",
     "text": [
      "9 27\n",
      "[9, 27]\n"
     ]
    }
   ],
   "source": [
    "print(list(map(int, input().split())))"
   ]
  },
  {
   "cell_type": "code",
   "execution_count": 16,
   "metadata": {},
   "outputs": [
    {
     "name": "stdout",
     "output_type": "stream",
     "text": [
      "9 27\n",
      "9 27\n"
     ]
    }
   ],
   "source": [
    "n, m = list(map(int, input().split()))\n",
    "print(n, m)"
   ]
  },
  {
   "cell_type": "code",
   "execution_count": 21,
   "metadata": {},
   "outputs": [
    {
     "name": "stdout",
     "output_type": "stream",
     "text": [
      "11 33\n",
      "---------------.|.---------------\n",
      "------------.|..|..|.------------\n",
      "---------.|..|..|..|..|.---------\n",
      "------.|..|..|..|..|..|..|.------\n",
      "---.|..|..|..|..|..|..|..|..|.---\n",
      "-------------WELCOME-------------\n",
      "---.|..|..|..|..|..|..|..|..|.---\n",
      "------.|..|..|..|..|..|..|.------\n",
      "---------.|..|..|..|..|.---------\n",
      "------------.|..|..|.------------\n",
      "---------------.|.---------------\n"
     ]
    }
   ],
   "source": [
    "# ------------.|.------------\n",
    "# ---------.|..|..|.---------\n",
    "# ------.|..|..|..|..|.------\n",
    "# ---.|..|..|..|..|..|..|.---\n",
    "# ----------WELCOME----------\n",
    "# ---.|..|..|..|..|..|..|.---\n",
    "# ------.|..|..|..|..|.------\n",
    "# ---------.|..|..|.---------\n",
    "# ------------.|.------------\n",
    "\n",
    "def welcomeMat():\n",
    "    n, m = list(map(int, input().split())) # n-> rows, m-> cols\n",
    "    r = 1 # r represents num of times string is printed\n",
    "    for i in range(n):\n",
    "        if i == n//2:\n",
    "            print('WELCOME'.center(m, '-'))\n",
    "        elif i < n//2:\n",
    "            print(('.|.'*(r)).center(m, '-'))\n",
    "            r+=2\n",
    "        else:\n",
    "            print(('.|.'*(r-2)).center(m, '-'))\n",
    "            r -= 2\n",
    "welcomeMat()"
   ]
  },
  {
   "cell_type": "code",
   "execution_count": 22,
   "metadata": {},
   "outputs": [
    {
     "name": "stdout",
     "output_type": "stream",
     "text": [
      "Binary: 0b11001, Octal: 0o31, Hexadecimal: 0x19\n"
     ]
    }
   ],
   "source": [
    "n = 25\n",
    "print(\"Binary: {}, Octal: {}, Hexadecimal: {}\".format(bin(n), oct(n), hex(n)))"
   ]
  },
  {
   "cell_type": "code",
   "execution_count": null,
   "metadata": {},
   "outputs": [],
   "source": [
    "def print_formatted(number):\n",
    "    b1=len(bin(n)[2:])\n",
    "    for i in range(1,n+1):\n",
    "        o=oct(i)[2:]\n",
    "        h=hex(i)[2:].upper()\n",
    "        b=bin(i)[2:]\n",
    "        print (str(i).rjust(b1),str(o).rjust(b1),str(h).rjust(b1),str(b).rjust(b1))"
   ]
  }
 ],
 "metadata": {
  "kernelspec": {
   "display_name": "Python 3",
   "language": "python",
   "name": "python3"
  },
  "language_info": {
   "codemirror_mode": {
    "name": "ipython",
    "version": 3
   },
   "file_extension": ".py",
   "mimetype": "text/x-python",
   "name": "python",
   "nbconvert_exporter": "python",
   "pygments_lexer": "ipython3",
   "version": "3.7.4"
  }
 },
 "nbformat": 4,
 "nbformat_minor": 2
}
