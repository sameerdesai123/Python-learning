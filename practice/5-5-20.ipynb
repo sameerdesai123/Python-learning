{
 "cells": [
  {
   "cell_type": "code",
   "execution_count": 6,
   "metadata": {},
   "outputs": [
    {
     "data": {
      "text/plain": [
       "40"
      ]
     },
     "execution_count": 6,
     "metadata": {},
     "output_type": "execute_result"
    }
   ],
   "source": [
    "# ASCII Values\n",
    "# A-Z 65-90\n",
    "# a-z 97-122\n",
    "ord('(')"
   ]
  },
  {
   "cell_type": "code",
   "execution_count": 7,
   "metadata": {},
   "outputs": [
    {
     "data": {
      "text/plain": [
       "'z'"
      ]
     },
     "execution_count": 7,
     "metadata": {},
     "output_type": "execute_result"
    }
   ],
   "source": [
    "chr(122)"
   ]
  },
  {
   "cell_type": "code",
   "execution_count": 8,
   "metadata": {},
   "outputs": [],
   "source": [
    "def swap_case(s):\n",
    "    l = []\n",
    "    for i in s:\n",
    "        if ord(i) in range(65, 91):\n",
    "            l.append( chr( ord(i) + 32 ) )\n",
    "        elif ord(i) in range(97, 123):\n",
    "            l.append( chr( ord(i) - 32 ) )\n",
    "        else:\n",
    "            l.append(i)\n",
    "    return ''.join(l)"
   ]
  },
  {
   "cell_type": "code",
   "execution_count": 9,
   "metadata": {},
   "outputs": [],
   "source": [
    "string = 'aivlb;vaba;ovbOBosvbouvbwoquuvb'\n",
    "l = [ i for i in string ] # l is list of i's for i in string"
   ]
  },
  {
   "cell_type": "code",
   "execution_count": 10,
   "metadata": {},
   "outputs": [
    {
     "data": {
      "text/plain": [
       "['a',\n",
       " 'i',\n",
       " 'v',\n",
       " 'l',\n",
       " 'b',\n",
       " ';',\n",
       " 'v',\n",
       " 'a',\n",
       " 'b',\n",
       " 'a',\n",
       " ';',\n",
       " 'o',\n",
       " 'v',\n",
       " 'b',\n",
       " 'O',\n",
       " 'B',\n",
       " 'o',\n",
       " 's',\n",
       " 'v',\n",
       " 'b',\n",
       " 'o',\n",
       " 'u',\n",
       " 'v',\n",
       " 'b',\n",
       " 'w',\n",
       " 'o',\n",
       " 'q',\n",
       " 'u',\n",
       " 'u',\n",
       " 'v',\n",
       " 'b']"
      ]
     },
     "execution_count": 10,
     "metadata": {},
     "output_type": "execute_result"
    }
   ],
   "source": [
    "l"
   ]
  },
  {
   "cell_type": "code",
   "execution_count": 18,
   "metadata": {},
   "outputs": [],
   "source": [
    "s = \"ABCDCDC\"\n",
    "sub1 = \"CDC\"\n",
    "l = [ i for i in range(0, len(s)) if s[i : i + len(sub1)] == sub1 ]"
   ]
  },
  {
   "cell_type": "code",
   "execution_count": 20,
   "metadata": {},
   "outputs": [],
   "source": [
    "def count_substring(string, sub_string):\n",
    "    l = [ i for i in range(0, len(string)) if string[i : i + len(sub_string)] == sub_string ]\n",
    "    return len(l)"
   ]
  },
  {
   "cell_type": "code",
   "execution_count": 25,
   "metadata": {},
   "outputs": [
    {
     "data": {
      "text/plain": [
       "True"
      ]
     },
     "execution_count": 25,
     "metadata": {},
     "output_type": "execute_result"
    }
   ],
   "source": [
    "all((1 == 1, True, True)) # takes input as set of conditions; returns True if all conditions are True"
   ]
  },
  {
   "cell_type": "code",
   "execution_count": 27,
   "metadata": {},
   "outputs": [
    {
     "data": {
      "text/plain": [
       "True"
      ]
     },
     "execution_count": 27,
     "metadata": {},
     "output_type": "execute_result"
    }
   ],
   "source": [
    "any((1 == 1, True, False)) # takes input as set of conditions; returns True if any of the conditions is True"
   ]
  },
  {
   "cell_type": "code",
   "execution_count": null,
   "metadata": {},
   "outputs": [],
   "source": []
  }
 ],
 "metadata": {
  "kernelspec": {
   "display_name": "Python 3",
   "language": "python",
   "name": "python3"
  },
  "language_info": {
   "codemirror_mode": {
    "name": "ipython",
    "version": 3
   },
   "file_extension": ".py",
   "mimetype": "text/x-python",
   "name": "python",
   "nbconvert_exporter": "python",
   "pygments_lexer": "ipython3",
   "version": "3.7.4"
  }
 },
 "nbformat": 4,
 "nbformat_minor": 2
}
