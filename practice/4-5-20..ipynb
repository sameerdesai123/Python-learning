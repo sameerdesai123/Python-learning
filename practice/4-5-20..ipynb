{
 "cells": [
  {
   "cell_type": "code",
   "execution_count": 1,
   "metadata": {},
   "outputs": [],
   "source": [
    "def listOperations():\n",
    "    N, l, cmds = int(input()), list(), []\n",
    "    print(\"N :\", N, \"Initial List :\", l, \"Commands Entered :\", cmds)\n",
    "    for i in range(N):\n",
    "        cmds.append(input().split())\n",
    "    print(\"After Taking Input List :\", l, \"Commands Entered :\", cmds)\n",
    "    for cmd in cmds:\n",
    "        if cmd[0] == 'print':\n",
    "            print(l)\n",
    "        elif cmd[0] == 'sort':\n",
    "            l.sort()\n",
    "        elif cmd[0] == 'pop':\n",
    "            l.pop()\n",
    "        elif cmd[0] == 'reverse':\n",
    "            l.sort(reverse=True)\n",
    "        elif cmd[0] == 'append':\n",
    "            l.append(int(cmd[1]))\n",
    "        elif cmd[0] == 'remove':\n",
    "            l.remove(int(cmd[1]))\n",
    "        else:\n",
    "            l.insert(int(cmd[1]), int(cmd[2]))\n",
    "        print(\"List :\", l, \"Command Executed :\", cmd)\n"
   ]
  },
  {
   "cell_type": "code",
   "execution_count": 2,
   "metadata": {},
   "outputs": [
    {
     "name": "stdout",
     "output_type": "stream",
     "text": [
      "5\n",
      "N : 5 Initial List : [] Commands Entered : []\n",
      "append 5\n",
      "insert 0 20\n",
      "remove 5\n",
      "insert 0 2\n",
      "pop\n",
      "After Taking Input List : [] Commands Entered : [['append', '5'], ['insert', '0', '20'], ['remove', '5'], ['insert', '0', '2'], ['pop']]\n",
      "List : [5] Command Executed : ['append', '5']\n",
      "List : [20, 5] Command Executed : ['insert', '0', '20']\n",
      "List : [20] Command Executed : ['remove', '5']\n",
      "List : [2, 20] Command Executed : ['insert', '0', '2']\n",
      "List : [2] Command Executed : ['pop']\n"
     ]
    }
   ],
   "source": [
    "listOperations()"
   ]
  },
  {
   "cell_type": "code",
   "execution_count": 6,
   "metadata": {},
   "outputs": [],
   "source": [
    "def listOperationsSimplified():\n",
    "    n = int(input())\n",
    "    l = []\n",
    "    for _ in range(n):\n",
    "        s = input().split()\n",
    "        cmd = s[0]\n",
    "        args = s[1:]\n",
    "        if cmd !=\"print\":\n",
    "            cmd += \"(\"+ \",\".join(args) +\")\"\n",
    "            eval(\"l.\"+cmd)\n",
    "        else:\n",
    "            print(l)"
   ]
  },
  {
   "cell_type": "code",
   "execution_count": 9,
   "metadata": {},
   "outputs": [
    {
     "name": "stdout",
     "output_type": "stream",
     "text": [
      "5\n",
      "append 5\n",
      "insert 0 20\n",
      "remove 5\n",
      "insert 0 2\n",
      "print\n",
      "[2, 20]\n"
     ]
    }
   ],
   "source": [
    "listOperationsSimplified()"
   ]
  },
  {
   "cell_type": "code",
   "execution_count": null,
   "metadata": {},
   "outputs": [],
   "source": []
  }
 ],
 "metadata": {
  "kernelspec": {
   "display_name": "Python 3",
   "language": "python",
   "name": "python3"
  },
  "language_info": {
   "codemirror_mode": {
    "name": "ipython",
    "version": 3
   },
   "file_extension": ".py",
   "mimetype": "text/x-python",
   "name": "python",
   "nbconvert_exporter": "python",
   "pygments_lexer": "ipython3",
   "version": "3.7.4"
  }
 },
 "nbformat": 4,
 "nbformat_minor": 2
}
