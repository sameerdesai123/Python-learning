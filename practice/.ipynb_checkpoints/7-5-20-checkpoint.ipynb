{
 "cells": [
  {
   "cell_type": "code",
   "execution_count": 38,
   "metadata": {},
   "outputs": [],
   "source": [
    "# Alphabet Rangoli\n",
    "# size = 5\n",
    "# --------e--------\n",
    "# ------e-d-e------\n",
    "# ----e-d-c-d-e----\n",
    "# --e-d-c-b-c-d-e--\n",
    "# e-d-c-b-a-b-c-d-e\n",
    "# --e-d-c-b-c-d-e--\n",
    "# ----e-d-c-d-e----\n",
    "# ------e-d-e------\n",
    "# --------e--------\n",
    "def line(row, size):\n",
    "    if row > (size*2 - 1)//2:\n",
    "        row = size*2 - 1 - row - 1\n",
    "    l = [ chr(96+size-i) for i in range(row, -1, -1)]\n",
    "    l1 = l[1:]\n",
    "    l1.sort(reverse=True)\n",
    "    l1.extend(l)\n",
    "    return '-'.join(l1)\n",
    "\n",
    "def print_rangoli(size):\n",
    "    rows, cols = (size*2 - 1), (size*4 - 3)\n",
    "    for row in range(rows):\n",
    "        print(line(row, size).center(cols, '-'))\n"
   ]
  },
  {
   "cell_type": "code",
   "execution_count": 40,
   "metadata": {},
   "outputs": [
    {
     "name": "stdout",
     "output_type": "stream",
     "text": [
      "Enter size of alphabet Rangoli :5\n",
      "--------e--------\n",
      "------e-d-e------\n",
      "----e-d-c-d-e----\n",
      "--e-d-c-b-c-d-e--\n",
      "e-d-c-b-a-b-c-d-e\n",
      "--e-d-c-b-c-d-e--\n",
      "----e-d-c-d-e----\n",
      "------e-d-e------\n",
      "--------e--------\n"
     ]
    }
   ],
   "source": [
    "n = int(input('Enter size of alphabet Rangoli :'))\n",
    "print_rangoli(n)"
   ]
  },
  {
   "cell_type": "markdown",
   "metadata": {},
   "source": []
  },
  {
   "cell_type": "code",
   "execution_count": 56,
   "metadata": {},
   "outputs": [
    {
     "name": "stdout",
     "output_type": "stream",
     "text": [
      "132 456 Wq  m e\n",
      "132 456 Wq M E\n"
     ]
    }
   ],
   "source": [
    "s = input()\n",
    "l = s.split()\n",
    "for i in range(len(l)):\n",
    "    word = l[i]\n",
    "    l[i] = word.replace(word[0], word[0].upper())\n",
    "print(' '.join(l))"
   ]
  },
  {
   "cell_type": "code",
   "execution_count": 55,
   "metadata": {},
   "outputs": [
    {
     "name": "stdout",
     "output_type": "stream",
     "text": [
      "12sameer Sameer Desai\n"
     ]
    }
   ],
   "source": [
    "s = '12sameer'.capitalize()\n",
    "l = ['12sameer', 'sameer', 'desai']\n",
    "for i in range(len(l)):\n",
    "    l[i] = l[i].capitalize()\n",
    "print(' '.join(l))"
   ]
  },
  {
   "cell_type": "code",
   "execution_count": 51,
   "metadata": {},
   "outputs": [
    {
     "data": {
      "text/plain": [
       "'12sameer'"
      ]
     },
     "execution_count": 51,
     "metadata": {},
     "output_type": "execute_result"
    }
   ],
   "source": [
    "s"
   ]
  },
  {
   "cell_type": "code",
   "execution_count": 57,
   "metadata": {},
   "outputs": [],
   "source": [
    "def score(sub, string):\n",
    "    size, c = len(sub), 0\n",
    "    for i in range(0,len(string)-size+1):\n",
    "        if sub == string[i:i+size]:\n",
    "            c += 1\n",
    "    return c\n",
    "\n",
    "def minion_game(string):\n",
    "    stuart, kevin, vowels, s_set, k_set = [], [], ['A', 'E', 'I', 'O', 'U'], [], []\n",
    "    for i in range(1, len(string)+1):\n",
    "        for j in range(len(string)):\n",
    "            #print(string[j:j+i])\n",
    "            if string[j] in vowels and string[j:j+i] not in kevin:\n",
    "                kevin.append(string[j:j+i])\n",
    "                k_set.append(score(string[j:j+i], string))\n",
    "                continue\n",
    "            elif string[j] not in vowels and string[j:j+i] not in stuart:\n",
    "                stuart.append(string[j:j+i])\n",
    "                s_set.append(score(string[j:j+i], string))\n",
    "    #print(stuart, kevin)\n",
    "    if sum(s_set) > sum(k_set):\n",
    "        print('Stuart {}'.format(sum(s_set)))\n",
    "    else:\n",
    "        print('Kevin {}'.format(sum(k_set)))"
   ]
  },
  {
   "cell_type": "code",
   "execution_count": 59,
   "metadata": {},
   "outputs": [
    {
     "name": "stdout",
     "output_type": "stream",
     "text": [
      "BANANA\n",
      "Stuart B 6\n",
      "Kevin A 5\n",
      "Stuart N 10\n",
      "Kevin A 8\n",
      "Stuart N 12\n",
      "Kevin A 9\n",
      "Stuart 12\n"
     ]
    }
   ],
   "source": [
    "def minion_game_optimized(string):\n",
    "    stuart, kevin, vowels = 0, 0, ['A', 'E', 'I', 'O', 'U']\n",
    "    for i in range(len(string)):\n",
    "        if string[i] in vowels:\n",
    "            kevin += len(string[i:])\n",
    "            print(\"Kevin {} {}\".format(string[i], kevin))\n",
    "        else:\n",
    "            stuart += len(string[i:])\n",
    "            print(\"Stuart {} {}\".format(string[i], stuart))\n",
    "    if kevin > stuart:\n",
    "        print('Kevin {}'.format(kevin))\n",
    "    else:\n",
    "        print('Stuart {}'.format(stuart))\n",
    "\n",
    "minion_game_optimized(input())"
   ]
  },
  {
   "cell_type": "code",
   "execution_count": null,
   "metadata": {},
   "outputs": [],
   "source": []
  }
 ],
 "metadata": {
  "kernelspec": {
   "display_name": "Python 3",
   "language": "python",
   "name": "python3"
  },
  "language_info": {
   "codemirror_mode": {
    "name": "ipython",
    "version": 3
   },
   "file_extension": ".py",
   "mimetype": "text/x-python",
   "name": "python",
   "nbconvert_exporter": "python",
   "pygments_lexer": "ipython3",
   "version": "3.7.4"
  }
 },
 "nbformat": 4,
 "nbformat_minor": 2
}
