{
 "cells": [
  {
   "cell_type": "markdown",
   "metadata": {},
   "source": [
    "# Conditional Statements\n",
    "\n",
    "## 1. if \n",
    "## 2. else\n",
    "## 3. elif"
   ]
  },
  {
   "cell_type": "code",
   "execution_count": 1,
   "metadata": {},
   "outputs": [
    {
     "name": "stdout",
     "output_type": "stream",
     "text": [
      "10 is a even number\n"
     ]
    }
   ],
   "source": [
    "# Even or Odd\n",
    "n = 10\n",
    "if n%2 == 0:\n",
    "    print(\"{} is a even number\".format(n))\n",
    "else:\n",
    "    print(\"{} is a odd number\".format(n)) \n"
   ]
  },
  {
   "cell_type": "code",
   "execution_count": 2,
   "metadata": {},
   "outputs": [
    {
     "name": "stdout",
     "output_type": "stream",
     "text": [
      "Greatest number is 3\n"
     ]
    }
   ],
   "source": [
    "# Greater among 3 numbers\n",
    "n1, n2, n3 = 1, 2, 3\n",
    "res = \"Greatest number is \"\n",
    "if n1 > n2:\n",
    "    if n1 > n3:\n",
    "        print(res + str(n1))\n",
    "    else:\n",
    "        print(res + str(n3))\n",
    "else:\n",
    "    if n2 > n3:\n",
    "        print(res + str(n2))\n",
    "    else:\n",
    "        print(res + str(n3))"
   ]
  },
  {
   "cell_type": "code",
   "execution_count": 3,
   "metadata": {},
   "outputs": [
    {
     "name": "stdout",
     "output_type": "stream",
     "text": [
      "Student grade is Failed\n"
     ]
    }
   ],
   "source": [
    "#  Grading\n",
    "sub1, sub2, sub3 = 33, 33, 33\n",
    "res = \"Student grade is \"\n",
    "perc = (sub1+ sub2+ sub3)/3\n",
    "if perc > 90:\n",
    "    print(res + 'A1')\n",
    "elif perc > 80:\n",
    "    print(res + 'A')\n",
    "else:\n",
    "    print(res + \"Failed\")"
   ]
  },
  {
   "cell_type": "code",
   "execution_count": null,
   "metadata": {},
   "outputs": [],
   "source": []
  }
 ],
 "metadata": {
  "kernelspec": {
   "display_name": "Python 3",
   "language": "python",
   "name": "python3"
  },
  "language_info": {
   "codemirror_mode": {
    "name": "ipython",
    "version": 3
   },
   "file_extension": ".py",
   "mimetype": "text/x-python",
   "name": "python",
   "nbconvert_exporter": "python",
   "pygments_lexer": "ipython3",
   "version": "3.7.4"
  }
 },
 "nbformat": 4,
 "nbformat_minor": 2
}
